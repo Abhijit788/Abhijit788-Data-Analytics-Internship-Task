{
  "nbformat": 4,
  "nbformat_minor": 0,
  "metadata": {
    "colab": {
      "provenance": []
    },
    "kernelspec": {
      "name": "python3",
      "display_name": "Python 3"
    },
    "language_info": {
      "name": "python"
    }
  },
  "cells": [
    {
      "cell_type": "code",
      "source": [
        "import kagglehub\n",
        "print(\"Downloading dataset...\")\n",
        "dataset_path = kagglehub.dataset_download(\"elemento/nyc-yellow-taxi-trip-data\")\n",
        "print(\"Dataset downloaded to:\", dataset_path)"
      ],
      "metadata": {
        "colab": {
          "base_uri": "https://localhost:8080/"
        },
        "id": "MNWW8BdHsDrk",
        "outputId": "f7bf7376-db0f-4dc1-8971-783a0c64052a"
      },
      "execution_count": 1,
      "outputs": [
        {
          "output_type": "stream",
          "name": "stdout",
          "text": [
            "Downloading dataset...\n",
            "Downloading from https://www.kaggle.com/api/v1/datasets/download/elemento/nyc-yellow-taxi-trip-data?dataset_version_number=2...\n"
          ]
        },
        {
          "output_type": "stream",
          "name": "stderr",
          "text": [
            "100%|██████████| 1.78G/1.78G [01:23<00:00, 22.9MB/s]"
          ]
        },
        {
          "output_type": "stream",
          "name": "stdout",
          "text": [
            "Extracting files...\n"
          ]
        },
        {
          "output_type": "stream",
          "name": "stderr",
          "text": [
            "\n"
          ]
        },
        {
          "output_type": "stream",
          "name": "stdout",
          "text": [
            "Dataset downloaded to: /root/.cache/kagglehub/datasets/elemento/nyc-yellow-taxi-trip-data/versions/2\n"
          ]
        }
      ]
    },
    {
      "cell_type": "code",
      "source": [
        "import dask.dataframe as dd\n",
        "import os\n",
        "\n",
        "# Load the dataset\n",
        "dataset_path = '/root/.cache/kagglehub/datasets/elemento/nyc-yellow-taxi-trip-data/versions/2'  # Update with actual path if needed\n",
        "\n",
        "# Check the contents of the dataset directory\n",
        "print(os.listdir(dataset_path))\n",
        "\n",
        "# Find CSV files recursively\n",
        "import glob\n",
        "csv_files = glob.glob(os.path.join(dataset_path, '**/*.csv'), recursive=True)\n",
        "\n",
        "# If CSV files are found, read them using dask.dataframe\n",
        "if csv_files:\n",
        "    file_path = csv_files[0]  # Use the first CSV file for example\n",
        "    df = dd.read_csv(file_path)\n",
        "    # Or read all CSV files\n",
        "    # df = dd.read_csv(csv_files)\n",
        "else:\n",
        "    print(\"No CSV files found in the dataset directory.\")"
      ],
      "metadata": {
        "colab": {
          "base_uri": "https://localhost:8080/"
        },
        "id": "cB1JRCP7sKEH",
        "outputId": "7c56df99-7e21-4745-eaaf-a32433c64a96"
      },
      "execution_count": 6,
      "outputs": [
        {
          "output_type": "stream",
          "name": "stdout",
          "text": [
            "['yellow_tripdata_2015-01.csv', 'yellow_tripdata_2016-02.csv', 'yellow_tripdata_2016-03.csv', 'yellow_tripdata_2016-01.csv']\n"
          ]
        }
      ]
    },
    {
      "cell_type": "code",
      "source": [
        "# Show first 5 rows\n",
        "print(df.head())\n",
        "\n",
        "# Data Cleaning (Drop NaN values)\n",
        "df = df.dropna()"
      ],
      "metadata": {
        "colab": {
          "base_uri": "https://localhost:8080/"
        },
        "id": "1NXG42Fqti_M",
        "outputId": "15438b46-91bc-458b-ef10-1c2c4637ece4"
      },
      "execution_count": 7,
      "outputs": [
        {
          "output_type": "stream",
          "name": "stdout",
          "text": [
            "   VendorID tpep_pickup_datetime tpep_dropoff_datetime  passenger_count  \\\n",
            "0         2  2015-01-15 19:05:39   2015-01-15 19:23:42                1   \n",
            "1         1  2015-01-10 20:33:38   2015-01-10 20:53:28                1   \n",
            "2         1  2015-01-10 20:33:38   2015-01-10 20:43:41                1   \n",
            "3         1  2015-01-10 20:33:39   2015-01-10 20:35:31                1   \n",
            "4         1  2015-01-10 20:33:39   2015-01-10 20:52:58                1   \n",
            "\n",
            "   trip_distance  pickup_longitude  pickup_latitude  RateCodeID  \\\n",
            "0           1.59        -73.993896        40.750111           1   \n",
            "1           3.30        -74.001648        40.724243           1   \n",
            "2           1.80        -73.963341        40.802788           1   \n",
            "3           0.50        -74.009087        40.713818           1   \n",
            "4           3.00        -73.971176        40.762428           1   \n",
            "\n",
            "  store_and_fwd_flag  dropoff_longitude  dropoff_latitude  payment_type  \\\n",
            "0                  N         -73.974785         40.750618             1   \n",
            "1                  N         -73.994415         40.759109             1   \n",
            "2                  N         -73.951820         40.824413             2   \n",
            "3                  N         -74.004326         40.719986             2   \n",
            "4                  N         -74.004181         40.742653             2   \n",
            "\n",
            "   fare_amount  extra  mta_tax  tip_amount  tolls_amount  \\\n",
            "0         12.0    1.0      0.5        3.25           0.0   \n",
            "1         14.5    0.5      0.5        2.00           0.0   \n",
            "2          9.5    0.5      0.5        0.00           0.0   \n",
            "3          3.5    0.5      0.5        0.00           0.0   \n",
            "4         15.0    0.5      0.5        0.00           0.0   \n",
            "\n",
            "   improvement_surcharge  total_amount  \n",
            "0                    0.3         17.05  \n",
            "1                    0.3         17.80  \n",
            "2                    0.3         10.80  \n",
            "3                    0.3          4.80  \n",
            "4                    0.3         16.30  \n"
          ]
        }
      ]
    },
    {
      "cell_type": "code",
      "source": [
        "# Exploratory Analysis\n",
        "print(df.describe().compute())  # Summary statistics"
      ],
      "metadata": {
        "colab": {
          "base_uri": "https://localhost:8080/"
        },
        "id": "STk31lqUwS5m",
        "outputId": "c4264fb0-29aa-43f5-e364-08c30286e4a6"
      },
      "execution_count": 8,
      "outputs": [
        {
          "output_type": "stream",
          "name": "stdout",
          "text": [
            "           VendorID  passenger_count  trip_distance  pickup_longitude  \\\n",
            "count  1.274898e+07     1.274898e+07   1.274898e+07      1.274898e+07   \n",
            "mean   1.521437e+00     1.681491e+00   1.345913e+01     -7.256185e+01   \n",
            "std    4.995402e-01     1.337924e+00   9.844095e+03      1.012504e+01   \n",
            "min    1.000000e+00     0.000000e+00   0.000000e+00     -1.219258e+02   \n",
            "25%    1.000000e+00     1.000000e+00   1.000000e+00     -7.399158e+01   \n",
            "50%    2.000000e+00     1.000000e+00   1.700000e+00     -7.398145e+01   \n",
            "75%    2.000000e+00     2.000000e+00   3.100000e+00     -7.396645e+01   \n",
            "max    2.000000e+00     9.000000e+00   1.542000e+07      7.866265e+01   \n",
            "\n",
            "       pickup_latitude    RateCodeID  dropoff_longitude  dropoff_latitude  \\\n",
            "count     1.274898e+07  1.274898e+07       1.274898e+07      1.274898e+07   \n",
            "mean      3.997283e+01  1.036901e+00      -7.260906e+01      3.999962e+01   \n",
            "std       5.578657e+00  6.732241e-01       9.965976e+00      5.487708e+00   \n",
            "min       0.000000e+00  1.000000e+00      -7.401667e+02     -9.029157e+00   \n",
            "25%       4.073598e+01  1.000000e+00      -7.399113e+01      4.073468e+01   \n",
            "50%       4.075349e+01  1.000000e+00      -7.397961e+01      4.075388e+01   \n",
            "75%       4.076781e+01  1.000000e+00      -7.396221e+01      4.076902e+01   \n",
            "max       4.047000e+02  9.900000e+01       8.527402e+01      4.595333e+02   \n",
            "\n",
            "       payment_type   fare_amount         extra       mta_tax    tip_amount  \\\n",
            "count  1.274898e+07  1.274898e+07  1.274898e+07  1.274898e+07  1.274898e+07   \n",
            "mean   1.386712e+00  1.190566e+01  3.082790e-01  4.977986e-01  1.853813e+00   \n",
            "std    4.988611e-01  1.030254e+01  5.916644e-01  3.534229e-02  1.106432e+03   \n",
            "min    1.000000e+00 -4.500000e+02 -7.900000e+01 -5.000000e-01 -9.242000e+01   \n",
            "25%    1.000000e+00  6.500000e+00  0.000000e+00  5.000000e-01  0.000000e+00   \n",
            "50%    1.000000e+00  9.000000e+00  0.000000e+00  5.000000e-01  1.000000e+00   \n",
            "75%    2.000000e+00  1.350000e+01  5.000000e-01  5.000000e-01  2.100000e+00   \n",
            "max    5.000000e+00  4.008000e+03  9.999900e+02  5.000000e-01  3.950589e+06   \n",
            "\n",
            "       tolls_amount  improvement_surcharge  total_amount  \n",
            "count  1.274898e+07           1.274898e+07  1.274898e+07  \n",
            "mean   2.434985e-01           2.831431e-01  1.510829e+01  \n",
            "std    1.527172e+00           6.908633e-02  1.106503e+03  \n",
            "min   -2.600000e+01           0.000000e+00 -4.503000e+02  \n",
            "25%    0.000000e+00           3.000000e-01  8.300000e+00  \n",
            "50%    0.000000e+00           3.000000e-01  1.130000e+01  \n",
            "75%    0.000000e+00           3.000000e-01  1.640000e+01  \n",
            "max    1.450090e+03           3.000000e-01  3.950612e+06  \n"
          ]
        }
      ]
    },
    {
      "cell_type": "code",
      "source": [
        "# Example Analysis: Count number of trips by passenger count\n",
        "passenger_counts = df.groupby(\"passenger_count\").size().compute()\n",
        "print(passenger_counts)"
      ],
      "metadata": {
        "colab": {
          "base_uri": "https://localhost:8080/"
        },
        "id": "NStGwXgTwXzm",
        "outputId": "e1892415-e72e-418f-d013-b80c1b948b91"
      },
      "execution_count": 9,
      "outputs": [
        {
          "output_type": "stream",
          "name": "stdout",
          "text": [
            "passenger_count\n",
            "0       6565\n",
            "1    8993867\n",
            "2    1814594\n",
            "3     528486\n",
            "4     253228\n",
            "5     697645\n",
            "6     454568\n",
            "9         11\n",
            "7          9\n",
            "8         10\n",
            "dtype: int64\n"
          ]
        }
      ]
    },
    {
      "cell_type": "code",
      "source": [
        "# Example Insight: Calculate average trip distance by passenger count\n",
        "average_distance = df.groupby(\"passenger_count\")[\"trip_distance\"].mean().compute()\n",
        "print(average_distance)"
      ],
      "metadata": {
        "colab": {
          "base_uri": "https://localhost:8080/"
        },
        "id": "La38eHLYwrFx",
        "outputId": "b685915d-9218-489e-a7e7-3506a1b31ab2"
      },
      "execution_count": 10,
      "outputs": [
        {
          "output_type": "stream",
          "name": "stdout",
          "text": [
            "passenger_count\n",
            "0     2.162647\n",
            "1    14.826126\n",
            "2    18.040789\n",
            "3     2.852763\n",
            "4     2.871686\n",
            "5     2.856184\n",
            "6     2.788518\n",
            "9     7.269091\n",
            "7     2.566667\n",
            "8     2.179000\n",
            "Name: trip_distance, dtype: float64\n"
          ]
        }
      ]
    },
    {
      "cell_type": "code",
      "source": [
        "# Save the processed dataset\n",
        "output_path = \"/content/drive/MyDrive/processed_nyc_taxi_data.csv\"\n",
        "df.to_csv(output_path, single_file=True, index=False)\n",
        "print(\"Processed data saved to:\", output_path)"
      ],
      "metadata": {
        "colab": {
          "base_uri": "https://localhost:8080/"
        },
        "id": "CjVsbi2Ew6i2",
        "outputId": "89fdc8b6-b299-46c2-ffa1-a18dd4d0c6ad"
      },
      "execution_count": 11,
      "outputs": [
        {
          "output_type": "stream",
          "name": "stdout",
          "text": [
            "Processed data saved to: /content/drive/MyDrive/processed_nyc_taxi_data.csv\n"
          ]
        }
      ]
    },
    {
      "cell_type": "code",
      "source": [
        "import matplotlib.pyplot as plt\n",
        "\n",
        "# Visualize average trip distance by passenger count\n",
        "average_distance.plot(kind='bar')\n",
        "plt.xlabel(\"Passenger Count\")\n",
        "plt.ylabel(\"Average Trip Distance\")\n",
        "plt.title(\"Average Trip Distance by Passenger Count\")\n",
        "plt.show()\n"
      ],
      "metadata": {
        "colab": {
          "base_uri": "https://localhost:8080/",
          "height": 467
        },
        "id": "2_K15AwixI6M",
        "outputId": "be52a570-1b25-472d-af34-d447c5386acc"
      },
      "execution_count": 12,
      "outputs": [
        {
          "output_type": "display_data",
          "data": {
            "text/plain": [
              "<Figure size 640x480 with 1 Axes>"
            ],
            "image/png": "[encoded data removed]"
          },
          "metadata": {}
        }
      ]
    }
  ]
}